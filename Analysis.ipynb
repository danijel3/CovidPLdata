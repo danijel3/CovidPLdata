{
  "nbformat": 4,
  "nbformat_minor": 0,
  "metadata": {
    "colab": {
      "name": "Analysis.ipynb",
      "provenance": [],
      "authorship_tag": "ABX9TyNX1czc32jrt1Mi9yzeuJ5w",
      "include_colab_link": true
    },
    "kernelspec": {
      "name": "python3",
      "display_name": "Python 3"
    },
    "language_info": {
      "name": "python"
    }
  },
  "cells": [
    {
      "cell_type": "markdown",
      "metadata": {
        "id": "view-in-github",
        "colab_type": "text"
      },
      "source": [
        "<a href=\"https://colab.research.google.com/github/danijel3/CovidPLdata/blob/main/Analysis.ipynb\" target=\"_parent\"><img src=\"https://colab.research.google.com/assets/colab-badge.svg\" alt=\"Open In Colab\"/></a>"
      ]
    },
    {
      "cell_type": "code",
      "execution_count": 1,
      "metadata": {
        "colab": {
          "base_uri": "https://localhost:8080/"
        },
        "id": "hPDU8wn4bs8k",
        "outputId": "66f1c9ee-b9e0-4bff-c177-46b7fdd0517b"
      },
      "outputs": [
        {
          "output_type": "stream",
          "name": "stdout",
          "text": [
            "Populating the interactive namespace from numpy and matplotlib\n"
          ]
        }
      ],
      "source": [
        "%pylab inline\n",
        "import pandas as pd"
      ]
    },
    {
      "cell_type": "code",
      "source": [
        "!wget https://github.com/danijel3/CovidPLdata/raw/main/zgony.csv"
      ],
      "metadata": {
        "colab": {
          "base_uri": "https://localhost:8080/"
        },
        "id": "YT9JXV2jb1no",
        "outputId": "a8954739-1e38-46fc-a7d0-8b26c199c46a"
      },
      "execution_count": 5,
      "outputs": [
        {
          "output_type": "stream",
          "name": "stdout",
          "text": [
            "--2021-12-11 07:48:57--  https://github.com/danijel3/CovidPLdata/raw/main/zgony.csv\n",
            "Resolving github.com (github.com)... 192.30.255.112\n",
            "Connecting to github.com (github.com)|192.30.255.112|:443... connected.\n",
            "HTTP request sent, awaiting response... 302 Found\n",
            "Location: https://raw.githubusercontent.com/danijel3/CovidPLdata/main/zgony.csv [following]\n",
            "--2021-12-11 07:48:58--  https://raw.githubusercontent.com/danijel3/CovidPLdata/main/zgony.csv\n",
            "Resolving raw.githubusercontent.com (raw.githubusercontent.com)... 185.199.108.133, 185.199.109.133, 185.199.110.133, ...\n",
            "Connecting to raw.githubusercontent.com (raw.githubusercontent.com)|185.199.108.133|:443... connected.\n",
            "HTTP request sent, awaiting response... 200 OK\n",
            "Length: 2819493 (2.7M) [text/plain]\n",
            "Saving to: ‘zgony.csv’\n",
            "\n",
            "zgony.csv           100%[===================>]   2.69M  --.-KB/s    in 0.05s   \n",
            "\n",
            "2021-12-11 07:48:58 (57.0 MB/s) - ‘zgony.csv’ saved [2819493/2819493]\n",
            "\n"
          ]
        }
      ]
    },
    {
      "cell_type": "code",
      "source": [
        "df=pd.read_csv('zgony.csv',delimiter=';')\n",
        "df"
      ],
      "metadata": {
        "colab": {
          "base_uri": "https://localhost:8080/",
          "height": 419
        },
        "id": "cWL7MLVMb33I",
        "outputId": "d1ef62a4-80c2-49cb-f116-deeba6bba41f"
      },
      "execution_count": 8,
      "outputs": [
        {
          "output_type": "execute_result",
          "data": {
            "text/html": [
              "<div>\n",
              "<style scoped>\n",
              "    .dataframe tbody tr th:only-of-type {\n",
              "        vertical-align: middle;\n",
              "    }\n",
              "\n",
              "    .dataframe tbody tr th {\n",
              "        vertical-align: top;\n",
              "    }\n",
              "\n",
              "    .dataframe thead th {\n",
              "        text-align: right;\n",
              "    }\n",
              "</style>\n",
              "<table border=\"1\" class=\"dataframe\">\n",
              "  <thead>\n",
              "    <tr style=\"text-align: right;\">\n",
              "      <th></th>\n",
              "      <th>Data</th>\n",
              "      <th>Płeć</th>\n",
              "      <th>czy_wspolistniejace</th>\n",
              "      <th>w_pelni_zaszczepiony</th>\n",
              "      <th>obnizona_odpornosc</th>\n",
              "      <th>Województwo</th>\n",
              "      <th>Powiat</th>\n",
              "      <th>Wiek2</th>\n",
              "      <th>Liczba zgonów</th>\n",
              "    </tr>\n",
              "  </thead>\n",
              "  <tbody>\n",
              "    <tr>\n",
              "      <th>0</th>\n",
              "      <td>07.12.2021</td>\n",
              "      <td>M</td>\n",
              "      <td>N</td>\n",
              "      <td>N</td>\n",
              "      <td>N</td>\n",
              "      <td>zachodniopomorskie</td>\n",
              "      <td>m. Szczecin</td>\n",
              "      <td>64</td>\n",
              "      <td>1</td>\n",
              "    </tr>\n",
              "    <tr>\n",
              "      <th>1</th>\n",
              "      <td>07.12.2021</td>\n",
              "      <td>K</td>\n",
              "      <td>T</td>\n",
              "      <td>N</td>\n",
              "      <td>N</td>\n",
              "      <td>małopolskie</td>\n",
              "      <td>nowotarski</td>\n",
              "      <td>91</td>\n",
              "      <td>1</td>\n",
              "    </tr>\n",
              "    <tr>\n",
              "      <th>2</th>\n",
              "      <td>07.12.2021</td>\n",
              "      <td>M</td>\n",
              "      <td>N</td>\n",
              "      <td>N</td>\n",
              "      <td>N</td>\n",
              "      <td>małopolskie</td>\n",
              "      <td>nowosądecki</td>\n",
              "      <td>83</td>\n",
              "      <td>1</td>\n",
              "    </tr>\n",
              "    <tr>\n",
              "      <th>3</th>\n",
              "      <td>07.12.2021</td>\n",
              "      <td>K</td>\n",
              "      <td>N</td>\n",
              "      <td>N</td>\n",
              "      <td>N</td>\n",
              "      <td>małopolskie</td>\n",
              "      <td>myślenicki</td>\n",
              "      <td>63</td>\n",
              "      <td>1</td>\n",
              "    </tr>\n",
              "    <tr>\n",
              "      <th>4</th>\n",
              "      <td>07.12.2021</td>\n",
              "      <td>K</td>\n",
              "      <td>N</td>\n",
              "      <td>N</td>\n",
              "      <td>N</td>\n",
              "      <td>małopolskie</td>\n",
              "      <td>miechowski</td>\n",
              "      <td>69</td>\n",
              "      <td>1</td>\n",
              "    </tr>\n",
              "    <tr>\n",
              "      <th>...</th>\n",
              "      <td>...</td>\n",
              "      <td>...</td>\n",
              "      <td>...</td>\n",
              "      <td>...</td>\n",
              "      <td>...</td>\n",
              "      <td>...</td>\n",
              "      <td>...</td>\n",
              "      <td>...</td>\n",
              "      <td>...</td>\n",
              "    </tr>\n",
              "    <tr>\n",
              "      <th>56597</th>\n",
              "      <td>02.01.2021</td>\n",
              "      <td>K</td>\n",
              "      <td>N</td>\n",
              "      <td>N</td>\n",
              "      <td>N</td>\n",
              "      <td>warmińsko-mazurskie</td>\n",
              "      <td>piski</td>\n",
              "      <td>60</td>\n",
              "      <td>1</td>\n",
              "    </tr>\n",
              "    <tr>\n",
              "      <th>56598</th>\n",
              "      <td>02.01.2021</td>\n",
              "      <td>K</td>\n",
              "      <td>T</td>\n",
              "      <td>N</td>\n",
              "      <td>N</td>\n",
              "      <td>wielkopolskie</td>\n",
              "      <td>gnieźnieński</td>\n",
              "      <td>95</td>\n",
              "      <td>1</td>\n",
              "    </tr>\n",
              "    <tr>\n",
              "      <th>56599</th>\n",
              "      <td>02.01.2021</td>\n",
              "      <td>M</td>\n",
              "      <td>T</td>\n",
              "      <td>N</td>\n",
              "      <td>N</td>\n",
              "      <td>wielkopolskie</td>\n",
              "      <td>gnieźnieński</td>\n",
              "      <td>70</td>\n",
              "      <td>1</td>\n",
              "    </tr>\n",
              "    <tr>\n",
              "      <th>56600</th>\n",
              "      <td>02.01.2021</td>\n",
              "      <td>M</td>\n",
              "      <td>N</td>\n",
              "      <td>N</td>\n",
              "      <td>N</td>\n",
              "      <td>śląskie</td>\n",
              "      <td>m. Katowice</td>\n",
              "      <td>69</td>\n",
              "      <td>1</td>\n",
              "    </tr>\n",
              "    <tr>\n",
              "      <th>56601</th>\n",
              "      <td>02.01.2021</td>\n",
              "      <td>K</td>\n",
              "      <td>T</td>\n",
              "      <td>N</td>\n",
              "      <td>N</td>\n",
              "      <td>kujawsko-pomorskie</td>\n",
              "      <td>inowrocławski</td>\n",
              "      <td>67</td>\n",
              "      <td>1</td>\n",
              "    </tr>\n",
              "  </tbody>\n",
              "</table>\n",
              "<p>56602 rows × 9 columns</p>\n",
              "</div>"
            ],
            "text/plain": [
              "             Data Płeć czy_wspolistniejace  ...         Powiat Wiek2 Liczba zgonów\n",
              "0      07.12.2021    M                   N  ...    m. Szczecin    64             1\n",
              "1      07.12.2021    K                   T  ...     nowotarski    91             1\n",
              "2      07.12.2021    M                   N  ...    nowosądecki    83             1\n",
              "3      07.12.2021    K                   N  ...     myślenicki    63             1\n",
              "4      07.12.2021    K                   N  ...     miechowski    69             1\n",
              "...           ...  ...                 ...  ...            ...   ...           ...\n",
              "56597  02.01.2021    K                   N  ...          piski    60             1\n",
              "56598  02.01.2021    K                   T  ...   gnieźnieński    95             1\n",
              "56599  02.01.2021    M                   T  ...   gnieźnieński    70             1\n",
              "56600  02.01.2021    M                   N  ...    m. Katowice    69             1\n",
              "56601  02.01.2021    K                   T  ...  inowrocławski    67             1\n",
              "\n",
              "[56602 rows x 9 columns]"
            ]
          },
          "metadata": {},
          "execution_count": 8
        }
      ]
    },
    {
      "cell_type": "code",
      "source": [
        "df.groupby(['Wiek2']).agg({'Liczba zgonów':'sum'}).plot(figsize=(10,5))"
      ],
      "metadata": {
        "colab": {
          "base_uri": "https://localhost:8080/",
          "height": 351
        },
        "id": "5-gm0jTdb9JV",
        "outputId": "77749c6a-7fb2-4330-872f-19b76c402a61"
      },
      "execution_count": 14,
      "outputs": [
        {
          "output_type": "execute_result",
          "data": {
            "text/plain": [
              "<matplotlib.axes._subplots.AxesSubplot at 0x7f37bdedb950>"
            ]
          },
          "metadata": {},
          "execution_count": 14
        },
        {
          "output_type": "display_data",
          "data": {
            "image/png": "[encoded data removed]",
            "text/plain": [
              "<Figure size 720x360 with 1 Axes>"
            ]
          },
          "metadata": {
            "needs_background": "light"
          }
        }
      ]
    }
  ]
}